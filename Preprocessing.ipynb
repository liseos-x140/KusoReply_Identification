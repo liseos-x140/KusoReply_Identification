{
 "cells": [
  {
   "cell_type": "markdown",
   "metadata": {},
   "source": [
    "# 前処理\n",
    "\n",
    "MeCabを用いた分かち書きやscreen_name,リンクの除去など"
   ]
  },
  {
   "cell_type": "code",
   "execution_count": 1,
   "metadata": {},
   "outputs": [],
   "source": [
    "import re\n",
    "import MeCab\n",
    "import pickle\n",
    "from tqdm import tqdm\n",
    "from joblib import Parallel, delayed"
   ]
  },
  {
   "cell_type": "code",
   "execution_count": 2,
   "metadata": {},
   "outputs": [],
   "source": [
    "def tokenizer_jp(sentence):\n",
    "  return MeCab.Tagger(\"-Owakati -d /usr/lib/mecab/dic/mecab-ipadic-neologd\").parse(sentence)\n",
    "\n",
    "def creaning(sentence):\n",
    "  sentence = re.sub(r\"@([A-Za-z0-9_]+)\", \"\", sentence)\n",
    "  sentence = re.sub(r'https?:\\/\\/.*', \"\", sentence)\n",
    "  return sentence\n",
    "\n",
    "def preprocess(sentence):\n",
    "    return tokenizer_jp(creaning(sentence))"
   ]
  },
  {
   "cell_type": "code",
   "execution_count": 3,
   "metadata": {},
   "outputs": [],
   "source": [
    "corpus_path = \"corpus/\"\n",
    "filename_raw = corpus_path + \"total.txt\"\n",
    "filename_input = corpus_path + \"input.pkl\"\n",
    "filename_output = corpus_path + \"output.pkl\""
   ]
  },
  {
   "cell_type": "code",
   "execution_count": 4,
   "metadata": {
    "scrolled": true
   },
   "outputs": [
    {
     "name": "stdout",
     "output_type": "stream",
     "text": [
      "Now Loading File...\n",
      "\n",
      "Now Parsing...\n",
      "\n",
      "Finished.\n",
      "\n",
      "CPU times: user 1min 37s, sys: 26.1 s, total: 2min 3s\n",
      "Wall time: 2min 3s\n"
     ]
    }
   ],
   "source": [
    "%%time\n",
    "with open(filename_raw,\"r\",encoding=\"utf-8\")as f:\n",
    "    print(\"Now Loading File...\\n\")\n",
    "    data = f.readlines()\n",
    "    \n",
    "    print(\"Now Parsing...\\n\")\n",
    "    data = Parallel(n_jobs=-1)([delayed(creaning)(_s) for _s in data])\n",
    "    \n",
    "    uttarances = data[0::2]\n",
    "    responses = data[1::2]\n",
    "    \n",
    "    print(\"Finished.\\n\")"
   ]
  },
  {
   "cell_type": "code",
   "execution_count": 5,
   "metadata": {},
   "outputs": [
    {
     "name": "stdout",
     "output_type": "stream",
     "text": [
      "Saving\n"
     ]
    }
   ],
   "source": [
    "p = re.compile(r\"^\\s*$\")\n",
    "\n",
    "_tmp = [[_u,_r] for i, (_u, _r) in enumerate(zip(data[0::2],data[1::2])) if not re.match(p, _u) and not re.match(p, _r)]\n",
    "uttarances = [_t[0] for _t in _tmp]\n",
    "responses = [_t[1] for _t in _tmp]\n",
    "\n",
    "print(\"Saving\")\n",
    "with open(filename_input, \"wb\")as f:\n",
    "    pickle.dump(uttarances, f)\n",
    "    \n",
    "with open(filename_output, \"wb\")as f:\n",
    "    pickle.dump(responses, f)"
   ]
  },
  {
   "cell_type": "code",
   "execution_count": null,
   "metadata": {},
   "outputs": [],
   "source": []
  }
 ],
 "metadata": {
  "kernelspec": {
   "display_name": "Python 3",
   "language": "python",
   "name": "python3"
  },
  "language_info": {
   "codemirror_mode": {
    "name": "ipython",
    "version": 3
   },
   "file_extension": ".py",
   "mimetype": "text/x-python",
   "name": "python",
   "nbconvert_exporter": "python",
   "pygments_lexer": "ipython3",
   "version": "3.6.5"
  }
 },
 "nbformat": 4,
 "nbformat_minor": 2
}
